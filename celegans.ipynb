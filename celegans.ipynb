{
 "cells": [
  {
   "cell_type": "markdown",
   "metadata": {
    "colab_type": "text",
    "id": "COIeOO7ChgaU"
   },
   "source": [
    "# ML4HC C. Elegans dataset\n",
    "\n",
    "\n",
    "Team members: \n",
    "\n",
    "\n",
    ">First Name| Last Name | Student number\n",
    ">--- | --- | --- | \n",
    ">Sotiris | Anagnostidis | 18-949-743\n",
    ">Adamos | Solomou | 18-947-192\n",
    ">Georgios | Vasilakopoulos | 18-954-768\n"
   ]
  },
  {
   "cell_type": "markdown",
   "metadata": {
    "colab_type": "text",
    "id": "2YmdBCSk393O"
   },
   "source": [
    "The computation of the entire notebook requires a considerable amount of execution time, so we do not advice a throughout execution of it. Many cells contain cross-validation commands in order to select optimal hyperparameters for the models that were developed.\n",
    "\n",
    "Prepare the notebook"
   ]
  },
  {
   "cell_type": "markdown",
   "metadata": {
    "colab_type": "text",
    "id": "q65_psmArKYV"
   },
   "source": [
    "### Purpose of the project\n",
    "\n",
    "Given the C. Elegans DNA dataset, the purpose of this project is to predict splice site given the DNA sequence.  \n",
    "\n",
    "In this Jupyter notebook we will attempt to classify these sequences using different methods. More specifically we will concetrate more on trying to correctly quantify simmilarities between gene sequences by defining appropriate similarity measures. \n",
    "\n",
    "The quality of our results will be measured by means of the following two scores: \n",
    "\n",
    "\n",
    "*   Area under the Receiver Operating Characteristic Curve (AUROC)\n",
    "*   Area under the Precision Recall Curve (AUPRC)\n",
    "\n"
   ]
  },
  {
   "cell_type": "markdown",
   "metadata": {
    "colab_type": "text",
    "id": "Ftayv3HpGTeM"
   },
   "source": [
    "\n",
    "\n",
    "## Import the dataset"
   ]
  },
  {
   "cell_type": "code",
   "execution_count": 0,
   "metadata": {
    "colab": {},
    "colab_type": "code",
    "id": "dPUG1L30jUIB"
   },
   "outputs": [],
   "source": [
    "import collections\n",
    "import numpy as np\n",
    "import pandas as pd\n",
    "import shogun as sg"
   ]
  },
  {
   "cell_type": "code",
   "execution_count": 4,
   "metadata": {
    "colab": {
     "base_uri": "https://localhost:8080/",
     "height": 35
    },
    "colab_type": "code",
    "id": "QReN4zdofHRz",
    "outputId": "44f83afb-7b47-4893-b19b-c60b9902d8d9"
   },
   "outputs": [
    {
     "name": "stdout",
     "output_type": "stream",
     "text": [
      "2019-03-20 18:29:20 URL:http://svmcompbio.tuebingen.mpg.de/data/C_elegans_acc_seq.csv [195600/195600] -> \"C_elegans_acc_seq.csv\" [1]\n"
     ]
    }
   ],
   "source": [
    "!if [ ! -f C_elegans_acc_seq.csv ]; then wget -nv http://svmcompbio.tuebingen.mpg.de/data/C_elegans_acc_seq.csv -O C_elegans_acc_seq.csv; fi"
   ]
  },
  {
   "cell_type": "code",
   "execution_count": 5,
   "metadata": {
    "colab": {
     "base_uri": "https://localhost:8080/",
     "height": 198
    },
    "colab_type": "code",
    "id": "UgccvwfOiVUE",
    "outputId": "b2a2f526-62b6-4cb9-d54f-d36c3e86eece"
   },
   "outputs": [
    {
     "data": {
      "text/html": [
       "<div>\n",
       "<style scoped>\n",
       "    .dataframe tbody tr th:only-of-type {\n",
       "        vertical-align: middle;\n",
       "    }\n",
       "\n",
       "    .dataframe tbody tr th {\n",
       "        vertical-align: top;\n",
       "    }\n",
       "\n",
       "    .dataframe thead th {\n",
       "        text-align: right;\n",
       "    }\n",
       "</style>\n",
       "<table border=\"1\" class=\"dataframe\">\n",
       "  <thead>\n",
       "    <tr style=\"text-align: right;\">\n",
       "      <th></th>\n",
       "      <th>class</th>\n",
       "      <th>sequence</th>\n",
       "    </tr>\n",
       "  </thead>\n",
       "  <tbody>\n",
       "    <tr>\n",
       "      <th>0</th>\n",
       "      <td>1.0</td>\n",
       "      <td>ACTGGGATAATTTGAAACAATAAATTTTTTTTTGAATTGTAGGTGT...</td>\n",
       "    </tr>\n",
       "    <tr>\n",
       "      <th>1</th>\n",
       "      <td>1.0</td>\n",
       "      <td>ATTGATTGAATATTAATTGTTATTTGACGTTATTTTTTAAAGAACT...</td>\n",
       "    </tr>\n",
       "    <tr>\n",
       "      <th>2</th>\n",
       "      <td>1.0</td>\n",
       "      <td>TTTAAACTTCGATTTTTTTCAAATAAAACATATTTTTTTCAGCCAG...</td>\n",
       "    </tr>\n",
       "    <tr>\n",
       "      <th>3</th>\n",
       "      <td>1.0</td>\n",
       "      <td>TAGCCAGATTTTTAGCAGGTTTTAGCAGAAAAACGTTTTCAGACGA...</td>\n",
       "    </tr>\n",
       "    <tr>\n",
       "      <th>4</th>\n",
       "      <td>1.0</td>\n",
       "      <td>TAAACCGCCGATTCTTAAAATTAATTTTTCTTTCTTTTTCAGATGA...</td>\n",
       "    </tr>\n",
       "  </tbody>\n",
       "</table>\n",
       "</div>"
      ],
      "text/plain": [
       "   class                                           sequence\n",
       "0    1.0  ACTGGGATAATTTGAAACAATAAATTTTTTTTTGAATTGTAGGTGT...\n",
       "1    1.0  ATTGATTGAATATTAATTGTTATTTGACGTTATTTTTTAAAGAACT...\n",
       "2    1.0  TTTAAACTTCGATTTTTTTCAAATAAAACATATTTTTTTCAGCCAG...\n",
       "3    1.0  TAGCCAGATTTTTAGCAGGTTTTAGCAGAAAAACGTTTTCAGACGA...\n",
       "4    1.0  TAAACCGCCGATTCTTAAAATTAATTTTTCTTTCTTTTTCAGATGA..."
      ]
     },
     "execution_count": 5,
     "metadata": {
      "tags": []
     },
     "output_type": "execute_result"
    }
   ],
   "source": [
    "dataset = pd.read_csv('C_elegans_acc_seq.csv', header=None, names=['class', 'sequence'])\n",
    "dataset.head(5)"
   ]
  },
  {
   "cell_type": "markdown",
   "metadata": {
    "colab_type": "text",
    "id": "nBByVZ3ZlXLN"
   },
   "source": [
    "We explore how balanced the classes are within the dataset."
   ]
  },
  {
   "cell_type": "code",
   "execution_count": 6,
   "metadata": {
    "colab": {
     "base_uri": "https://localhost:8080/",
     "height": 54
    },
    "colab_type": "code",
    "id": "414x0N2aiheM",
    "outputId": "5b4d70b2-e864-4692-8a20-38e6a047571d"
   },
   "outputs": [
    {
     "name": "stdout",
     "output_type": "stream",
     "text": [
      "value:  1 found:  200 times\n",
      "value:  0 found: 2000 times\n"
     ]
    }
   ],
   "source": [
    "# make two classes being predicted 0 and 1 instead of -1 and 1\n",
    "# this will be useful to easier calculate predicted probabilities\n",
    "\n",
    "dataset['class'].values[dataset['class'].values == -1] = 0\n",
    "\n",
    "for value, frequency in collections.Counter(dataset['class'].values).items():\n",
    "    print('value: %2d found: %4d times' % (value, frequency))"
   ]
  },
  {
   "cell_type": "markdown",
   "metadata": {
    "colab_type": "text",
    "id": "9E4LXcWIi9oE"
   },
   "source": [
    "As specified during the presentation of the exercise, classes are heavily unbalanced. This will play a crucial role for the following reasons:\n",
    "\n",
    "\n",
    "*   Most classifiers are trained without taking the number of samples per class into account. In order to alleviate this fact two main approaches can be inherited. First, we can either undersample over-represented class, which is not recommended in this case due to the small number of overall data points, or oversample the under-represented class by replicating some data points. Second, we can modify the loss function of the model by appropriately weighting point-wise errors so that a larger loss is incured when the model incorectly classifies a sample from the under-represented class. These weights will constitude a design parameter of the model. Due to the small size of the dataset, we decided to follow the second approch (weighted loss).\n",
    "\n",
    "*   During the evaluation phase, metrics that do not take into account the relative frequency of classes, will be harder to interpret and might also lead to misleading results like the accuracy paradox. For example, the AUROC score does not take this fact into account.  \n"
   ]
  },
  {
   "cell_type": "markdown",
   "metadata": {
    "colab_type": "text",
    "id": "eb4PnJ-VIA3W"
   },
   "source": [
    "\n",
    "For the following parts we will split the data, keeping a test set for the final evaluation. We should mention that such a split increases the bias of the final results, as they will slightly depend on this split.\n"
   ]
  },
  {
   "cell_type": "code",
   "execution_count": 0,
   "metadata": {
    "colab": {},
    "colab_type": "code",
    "id": "hjtQN5_gi8wL"
   },
   "outputs": [],
   "source": [
    "from sklearn.model_selection import train_test_split\n",
    " \n",
    "features, features_test, labels, labels_test = train_test_split(dataset['sequence'].values, dataset['class'].values, test_size=0.2, random_state=17)"
   ]
  },
  {
   "cell_type": "markdown",
   "metadata": {
    "colab_type": "text",
    "id": "0EYiqpRzJYmj"
   },
   "source": [
    "In the next sections we present how we experimented with different methods and the best results we achieved with each one."
   ]
  },
  {
   "cell_type": "markdown",
   "metadata": {
    "colab_type": "text",
    "id": "2weAcg2xnTsK"
   },
   "source": [
    "## Support Vector Machine\n",
    "\n",
    "We experimented using different kernels for the SVM trying to capture dependencies between DNA sequences.\n",
    "\n",
    "The kernels presented during the lectures and the ones we experienced the most success with were the following:\n",
    "\n",
    "\n",
    "*   CommWordStringKernel\n",
    "*   WeightedDegreeStringKernel\n",
    "*   WeightedDegreePositionStringKernel\n",
    "\n",
    "Now we will present the function of each kernel and the reasons why we can expect them to provide promising results. \n",
    "\n",
    "\n",
    "### CommWordStringKernel\n",
    "\n",
    "This kernel is used to compute the spectrum kernel from strings. Most precisely it computes:\n",
    "\n",
    "\n",
    "$$k(x, x') = Φ_k(x) \\times Φ_k(x') $$\n",
    "\n",
    "where $Φ_k$ is a new vector representation of $x$. Effectively, $Φ_k$ maps the raw sequence $x$ that consits of letters in some vocabulary $V$ to a feature vector of size $|V|^k$ where $|V|$ denotes the cardinality of the vocabulary. In this transformed feature vector, each entry corresponds to the number of times that a specific $k-$mer was observed in the original sequence $x$.\n",
    "\n",
    "The main disadvantage of this kernel is that exact positition that each $k-$mer was observed is discarded, preserving only information regarding the number of occurances of each $k-$mer (similar to the bag-of-words concept). This technique, makes use of position-independent motifs. \n",
    "\n",
    "\n",
    "### WeightedDegreeStringKernel\n",
    "\n",
    "This kernel sums all contributions of $k-$mer matches of lengths $k \\in \\{1,...,d\\}$ where $d$ is the maximal \"match length\" taken into account, also known as the kernel degree. Furthermore, the kernel weights each contribution by the corresponding weight $\\beta_k$. The kernel is formulated as follows, \n",
    "\n",
    "$$k(x, x') = \\sum_{k=1}^d \\beta_k \\sum_{l=1}^{L-k+1} I(u_{k,l}(x) = u_{k,l}(x'))$$\n",
    "\n",
    "where $I$ is the indicator function and $u_{k,l}(x)$ denotes the string of length $k$ starting at position $l$ for the sequence $x$.\n",
    "\n",
    "In contrast to the previous kernel, the Weighted Degree String kernel makes use of position-dependent motifs, taking into account the exact position of each $k-$mer. This is useful as one could expect similar patterns to apper close to splice sites. This will also become apparent from the results that are presented subsequently. \n",
    "\n",
    "### WeightedDegreePositionStringKernel\n",
    "\n",
    "Building from the ideas of the previous case, we attempt to further expand on previous results by allowing sequences to not be completely aligned with each other [1].\n",
    "\n",
    "\n",
    "\n",
    "\n",
    "![](https://drive.google.com/uc?export=view&id=1tBiYQAz38AcoypkfmDhivcUjmUo5LMfz)\n",
    "\n"
   ]
  },
  {
   "cell_type": "code",
   "execution_count": 0,
   "metadata": {
    "colab": {},
    "colab_type": "code",
    "id": "4j2eZLlvM6M6"
   },
   "outputs": [],
   "source": [
    "from sklearn.utils import shuffle \n",
    "from sklearn.metrics import roc_auc_score\n",
    "from sklearn.model_selection import train_test_split, KFold\n",
    "\n",
    "from sklearn.metrics import accuracy_score, roc_auc_score, confusion_matrix, precision_recall_curve\n",
    "from sklearn.metrics import roc_curve, auc, classification_report, make_scorer\n",
    "from sklearn.model_selection import GridSearchCV"
   ]
  },
  {
   "cell_type": "markdown",
   "metadata": {
    "colab_type": "text",
    "id": "LGjBRAop9ckv"
   },
   "source": [
    "### Class custom SVM \n",
    "#### Αvailable kernels : \n",
    "##### \"CommWordStringKernel\", \"WeightedDegreeStringKernel\", \"WeightedDegreePositionStringKernel\"\n"
   ]
  },
  {
   "cell_type": "code",
   "execution_count": 0,
   "metadata": {
    "colab": {},
    "colab_type": "code",
    "id": "VeWVmFmEur3A"
   },
   "outputs": [],
   "source": [
    "from sklearn.base import BaseEstimator, ClassifierMixin\n",
    "from sklearn.svm import SVC\n",
    "from shogun import WeightedDegreeStringKernel, CommWordStringKernel, WeightedDegreePositionStringKernel\n",
    "from shogun import StringCharFeatures, StringWordFeatures\n",
    "from shogun import SqrtDiagKernelNormalizer, IdentityKernelNormalizer\n",
    "from shogun import DNA\n",
    "\n",
    "class custom_SVM(BaseEstimator, ClassifierMixin):  \n",
    "    \"\"\"\n",
    "    Implementation of SVM using different shogun kernels\n",
    "    This implementation is elaborate and does not offer much flexibility mainly \n",
    "    due to the fact that every kernel implemented requires different features \n",
    "    from the original dna sequences. In order to provide a cleaner interface \n",
    "    we tranfered this overhead inside the svm class.\n",
    "    \"\"\"\n",
    "\n",
    "    available_kernels = [\"CommWordStringKernel\", \"WeightedDegreeStringKernel\", \"WeightedDegreePositionStringKernel\"]\n",
    "    \n",
    "    def __init__(self, kernel=\"WeightedDegreePositionStringKernel\", kernel_degree=5, C=1.0, class_weight=None, random_state=None,\n",
    "                order=2, gap=0, reverse=False, use_sign=False, normalizer=None, shift=10, kernel_weights=None):\n",
    "      \n",
    "        if type(kernel) is list:\n",
    "            assert all(k in self.available_kernels for k in kernel), \"kernel selected not implemented\"\n",
    "        else:\n",
    "            assert kernel in self.available_kernels, \"kernel selected not implemented\"\n",
    "            \n",
    "        assert (type(kernel) is not list or type(kernel_weights) is list and len(kernel) == len(kernel_weights)), \"if list of kernels specified the kernel_weights should also be specified\"\n",
    "        \n",
    "        self.kernel = kernel\n",
    "        self.kernel_degree = kernel_degree\n",
    "        self.order = order\n",
    "        self.gap = gap\n",
    "        self.reverse = reverse\n",
    "        self.use_sign = use_sign\n",
    "        self.shift = shift\n",
    "        self.kernel_weights = kernel_weights\n",
    "        \n",
    "        self.normalizer = normalizer\n",
    "        \n",
    "        self.C = C\n",
    "        self.random_state = random_state\n",
    "        self.class_weight = class_weight\n",
    "        self.clf = SVC(C=C, class_weight=class_weight, kernel='precomputed', probability=True, random_state=random_state)\n",
    "        \n",
    "    def get_kernel_matrix(self, X):\n",
    "        if type(self.kernel) is not list:\n",
    "            return self._get_kernel_matrix(X)\n",
    "        else:\n",
    "            # combination of kernels\n",
    "            final_kernel = self._get_kernel_matrix(X, computed_kernel=self.kernel[0]) * self.kernel_weights[0]\n",
    "            for i in range(1, len(self.kernel)):\n",
    "                final_kernel = final_kernel + self._get_kernel_matrix(X, computed_kernel=self.kernel[i]) * self.kernel_weights[i]\n",
    "            return final_kernel\n",
    "        \n",
    "    def _get_kernel_matrix(self, X, computed_kernel=None):\n",
    "        \"\"\"\n",
    "        Get kernel matrix from a list of strings.\n",
    "        if kernel != None multiple kernels have been chosen\n",
    "        \"\"\"\n",
    "        X = list(X)\n",
    "        if computed_kernel == None:\n",
    "            computed_kernel = self.kernel\n",
    "        \n",
    "        \n",
    "        if computed_kernel == \"CommWordStringKernel\":\n",
    "            # represent the strings as char features\n",
    "            char_feats = StringCharFeatures(DNA)\n",
    "            char_feats.set_features(X)\n",
    "\n",
    "            # create a string features instance which contains counts for every k-mer\n",
    "            # the obtain method counts every possible k-mer of the specified length and save the results as a list\n",
    "            # of numbers (one for each possible k-mer)\n",
    "            word_feats = StringWordFeatures(DNA)\n",
    "            word_feats.obtain_from_char(char_feats, self.order - 1, self.order, self.gap, self.reverse)\n",
    "\n",
    "            try:\n",
    "                # predict phase\n",
    "                X_train = list(self.X_train)\n",
    "                \n",
    "                char_feats_train = StringCharFeatures(DNA)\n",
    "                char_feats_train.set_features(X_train)\n",
    "\n",
    "                # create a string features instance which contains counts for every k-mer\n",
    "                # the obtain method counts every possible k-mer of the specified length and save the results as a list\n",
    "                # of numbers (one for each possible k-mer)\n",
    "                word_feats_train = StringWordFeatures(DNA)\n",
    "                word_feats_train.obtain_from_char(char_feats_train, self.order - 1, self.order, self.gap, self.reverse)\n",
    "                \n",
    "                kernel = CommWordStringKernel(word_feats, word_feats_train)\n",
    "            except AttributeError:\n",
    "                # fit phase\n",
    "                kernel = CommWordStringKernel(word_feats, word_feats)\n",
    "        elif computed_kernel == \"WeightedDegreeStringKernel\":\n",
    "            features = sg.StringCharFeatures(X, sg.DNA)\n",
    "            try:\n",
    "                # predict phase\n",
    "                X_train = list(self.X_train)\n",
    "                \n",
    "                features_train = sg.StringCharFeatures(X_train, sg.DNA)\n",
    "            \n",
    "                kernel = sg.WeightedDegreeStringKernel(features, features_train, self.kernel_degree)\n",
    "            except AttributeError:\n",
    "                # fit phase\n",
    "                kernel = sg.WeightedDegreeStringKernel(features, features, self.kernel_degree)\n",
    "        elif computed_kernel == \"WeightedDegreePositionStringKernel\":\n",
    "            features = StringCharFeatures(X, sg.DNA)\n",
    "            try:\n",
    "                # predict phase\n",
    "                X_train = list(self.X_train)\n",
    "                \n",
    "                features_train = sg.StringCharFeatures(X_train, sg.DNA)\n",
    "                \n",
    "                kernel = sg.WeightedDegreePositionStringKernel(features, features_train, self.kernel_degree)\n",
    "            except AttributeError:\n",
    "                # fit phase\n",
    "                kernel = sg.WeightedDegreePositionStringKernel(features, features, self.kernel_degree)\n",
    "            \n",
    "            kernel.set_shifts(self.shift * np.ones(len(X[0]), dtype=np.int32))\n",
    "            kernel.set_position_weights(np.ones(len(X[0]), dtype=np.float64))    \n",
    "        \n",
    "    \n",
    "        return kernel.get_kernel_matrix()\n",
    "        \n",
    "       \n",
    "    def fit(self, X, y=None):\n",
    "        \"\"\"\n",
    "        All necessary checks are made in the sklearn SVM used \n",
    "        \"\"\"\n",
    "        self.X_train = X\n",
    "        self.clf.fit(self.get_kernel_matrix(X), y)\n",
    "        self.treshold_ = 0.2\n",
    "        return self\n",
    "\n",
    "    def _meaning(self, x):\n",
    "        # returns True/False according to fitted classifier\n",
    "        return( True if x >= self.treshold_ else False )\n",
    "\n",
    "    def predict(self, X):\n",
    "        return (self.decision_function(X)[:, 1] > 0.5).astype(np.int16)\n",
    "        \n",
    "    def score(self, X, y, sample_weight=None):\n",
    "        from sklearn.metrics import accuracy_score\n",
    "        return accuracy_score(y, self.predict(X), sample_weight=sample_weight)\n",
    "      \n",
    "    def decision_function(self, X):\n",
    "        return self.clf.predict_proba(self.get_kernel_matrix(X))\n",
    "      \n",
    "    def predict_proba(self, X):\n",
    "        return self.decision_function(X)\n",
    "      \n",
    "    def get_params(self, deep = False):\n",
    "        return {'kernel': self.kernel, 'C': self.C, \n",
    "                'kernel_degree': self.kernel_degree, \n",
    "                'random_state': self.random_state, \n",
    "                'class_weight': self.class_weight,\n",
    "                'gap': self.gap, 'order': self.order,\n",
    "                'shift': self.shift, \n",
    "                'kernel_weights': self.kernel_weights}"
   ]
  },
  {
   "cell_type": "markdown",
   "metadata": {
    "colab_type": "text",
    "id": "HlhEwrF580L9"
   },
   "source": [
    "### Scoring Functions"
   ]
  },
  {
   "cell_type": "code",
   "execution_count": 0,
   "metadata": {
    "colab": {},
    "colab_type": "code",
    "id": "_AKrTSnz2rBX"
   },
   "outputs": [],
   "source": [
    "def AUPRC(y_true, y_pred):\n",
    "    precision, recall, thresholds_prc = precision_recall_curve(y_true, y_pred)\n",
    "    # compute precision-recall curve\n",
    "    return auc(recall, precision)\n",
    "\n",
    "def print_scores(features_test, labels_test, scores, clf):\n",
    "    \"\"\"\n",
    "    Takes as input a dictionary of scorers and outputs the score for each one\n",
    "    \"\"\"\n",
    "    for scorer, score in scores.items():\n",
    "        print('scorer: %10s score %f' % (scorer, score(clf, features_test, labels_test)))\n",
    "      \n",
    "\n",
    "scores = {'ROC_AUC': make_scorer(roc_auc_score, needs_proba=True), \n",
    "          'AUPRC': make_scorer(AUPRC, needs_proba=True)}"
   ]
  },
  {
   "cell_type": "markdown",
   "metadata": {
    "colab_type": "text",
    "id": "jO1zYqzMzC9c"
   },
   "source": [
    "Next we complete a GridSearch to find the best parameters for our model. \n",
    "\n",
    "We experimented we the three kernels as described above. \n",
    "\n",
    "We should mention that we tried out a lot more parameters than the ones specified here, but these are presented for completeness reasons.\n",
    "\n",
    "For this section as well for the ones to follow, all results are presented with a mean score value and a confidence interval of two times the standard deviation around the mean."
   ]
  },
  {
   "cell_type": "markdown",
   "metadata": {
    "colab_type": "text",
    "id": "c8Rxrw7o9AiB"
   },
   "source": [
    "### Hyperparameter Selection "
   ]
  },
  {
   "cell_type": "code",
   "execution_count": 0,
   "metadata": {
    "colab": {},
    "colab_type": "code",
    "id": "rQCTlslRbAze"
   },
   "outputs": [],
   "source": [
    "# Set the parameters by cross-validation\n",
    "tuned_parameters = [{'kernel': ['WeightedDegreeStringKernel'], \n",
    "                     'kernel_degree': [4, 5, 6, 7, 8, 9, 10], 'C': [0.001, 0.005, 0.01, 0.1, 1],\n",
    "                     'class_weight': ['balanced', None]},\n",
    "                    {'kernel': ['CommWordStringKernel'], \n",
    "                     'C': [0.01, 0.1, 1, 10], 'order': [2, 3, 4], 'gap': [0, 1, 2],\n",
    "                     'class_weight': ['balanced', None]},\n",
    "                   {'kernel': ['WeightedDegreePositionStringKernel'], \n",
    "                    'C': [0.001, 0.005, 0.01, 0.1, 1],\n",
    "                    'class_weight': ['balanced', None],\n",
    "                    'kernel_degree': [4, 5, 6, 7, 8], 'shift': [2, 5, 10, 20]}]\n",
    "\n",
    "for scorer, score in scores.items():\n",
    "    print('===================================================================')\n",
    "    print(\"# Tuning hyper-parameters for %s\" % scorer)\n",
    "    print()\n",
    "\n",
    "    clf = GridSearchCV(custom_SVM(), tuned_parameters, cv=5,\n",
    "                       scoring=score)\n",
    "    clf.fit(features, labels)\n",
    "\n",
    "    print(\"Best parameters set found on development set:\")\n",
    "    print()\n",
    "    print(clf.best_params_)\n",
    "    print(clf.best_score_)\n",
    "    print()\n",
    "    print(\"Grid scores on development set:\")\n",
    "    print()\n",
    "    \n",
    "    means = clf.cv_results_['mean_test_score']\n",
    "    stds = clf.cv_results_['std_test_score']\n",
    "    for mean, std, params in zip(means, stds, clf.cv_results_['params']):\n",
    "        print(\"%0.3f (+/-%0.03f) for %r\"\n",
    "              % (mean, std * 2, params))\n",
    "    print()\n",
    "\n",
    "    print(\"Detailed classification report:\")\n",
    "    print()\n",
    "    print(\"The model is trained on the full development set.\")\n",
    "    print('Validation test score for %s and the best estimator ' % scorer)\n",
    "    print()\n",
    "    print(score(clf, features_test, labels_test))\n",
    "    print()\n"
   ]
  },
  {
   "cell_type": "markdown",
   "metadata": {
    "colab_type": "text",
    "id": "QYbp1EHqSL34"
   },
   "source": [
    "Here are the best results we obtained for each kernel separately. We specified two different metrics for the evaluation of the results. Since not significant statistical differences were introduced between models that achieved the best results for the one metric compared to the other, we present a single model for each kernel for the two different kernels below. These results come from a 5-fold cross validation on the training set. \n",
    "\n",
    "---\n",
    "\n",
    ">Kernel| kernel parameters | ROC_AUC score | AUPRC score\n",
    ">--- | --- | --- | ---\n",
    ">CommWordStringKernel | 'C': 0.1, 'class_weight': 'balanced', 'gap': 0, 'order': 2 | 0.832 (+/-0.036) | 0.441 (+/-0.177)\n",
    ">WeightedDegreeStringKernel | 'C': 0.1, 'class_weight': 'balanced', 'kernel_degree': 5 | 0.987 (+/-0.009) | 0.893 (+/-0.123)\n",
    ">WeightedDegreePositionStringKernel | 'C': 0.1, 'class_weight': 'balanced', 'kernel_degree': 5, 'shift': 18} | 0.991 (+/-0.009) | 0.911 (+/-0.139)\n",
    "\n",
    "As expected the spectrum kernel fails to recognize dependencies between splite sites. We can also observe that the introduction of shifts increases the overall accuracy for the weighted degree kernel.\n",
    "\n",
    "---\n",
    "\n",
    "Based on well-known kernel properties, the weighted sum of two kernel functions is also a kernel function provided that the weighting coefficients are positive. \n",
    "\n",
    "$$k(x, x') = \\alpha \\times k_1(x, x') + \\beta \\times k_2(x, x') \\space where \\space \\alpha > 0, \\beta >0$$\n",
    "\n",
    "We will use this result to combine the two kernels that gave rise to the highest scores. That is, the weighted degree string kernel and the weighted degree string kernel with shifts. A precise evaluation would require an exhaustive grid search over the combination of all parameters including weights $\\alpha, \\beta$. As results were similar and due to limited computational resources, we resort only to the best results from above. We should mention that both kernels model similar quantities. As a result we can expect that their output can be directly related and no particular weighting process should take place.\n",
    "\n",
    "A different approach would result to training individual models and combining them at the end of their training phase. This will be exploited at a later section."
   ]
  },
  {
   "cell_type": "markdown",
   "metadata": {
    "colab_type": "text",
    "id": "YLpUUJcf9OVq"
   },
   "source": [
    "### Combination of different kernels"
   ]
  },
  {
   "cell_type": "markdown",
   "metadata": {
    "colab_type": "text",
    "id": "-f7r5Hu9iA_f"
   },
   "source": [
    "Here we combine the kernels that previously outputed the best results. "
   ]
  },
  {
   "cell_type": "code",
   "execution_count": 0,
   "metadata": {
    "colab": {},
    "colab_type": "code",
    "id": "4v4KFgzMccdM"
   },
   "outputs": [],
   "source": [
    "from sklearn.model_selection import cross_val_score\n",
    "\n",
    "for scorer, score in scores.items():\n",
    "    print('===================================================================')\n",
    "    print(\"# Tuning hyper-parameters for %s\" % scorer)\n",
    "    print()\n",
    "\n",
    "    for i in np.arange(0, 0.75, 0.05):\n",
    "      clf = custom_SVM(C=0.1, kernel_degree=5, shift=18, kernel=[\"WeightedDegreeStringKernel\", \"WeightedDegreePositionStringKernel\"], class_weight='balanced', kernel_weights=[i, 1])\n",
    "      cv_scores = cross_val_score(clf, features, labels, cv=5, scoring=score)\n",
    "      print(\"%0.5f (+/-%0.03f) for weights [%0.2f, 1]\" % (np.mean(cv_scores), np.std(cv_scores) * 2, i))      "
   ]
  },
  {
   "cell_type": "markdown",
   "metadata": {
    "colab_type": "text",
    "id": "VRnYDmyWzCc8"
   },
   "source": [
    "The results above lead to the conclusion that the use of multiple kernel functions (as a linear combination) could improve slightly the quality of our predictions. Taking into account the standard deviation of the results, we could make the argument that these improvements are not statistically important. Nevertheless, for reasons of completeness reason they are presented here. \n"
   ]
  },
  {
   "cell_type": "code",
   "execution_count": 0,
   "metadata": {
    "colab": {},
    "colab_type": "code",
    "id": "FSaYj2v30tiO"
   },
   "outputs": [],
   "source": [
    "# hard code results of the previous experiments for persistence after restarting the kernel\n",
    "\n",
    "weights = np.arange(0, 0.75, 0.05)\n",
    "relative_weights = weights / (weights + 1)\n",
    "aur_roc_scores = [0.99126, 0.99138, 0.99142, 0.99142, 0.99138, \n",
    "                  0.99140, 0.99138, 0.99150, 0.99162, 0.99160, \n",
    "                  0.99168, 0.99166, 0.99146, 0.99144, 0.99144]\n",
    "aur_roc_std = [0.009] * 12 + [0.01] * 3\n",
    "auprc_scores = [0.91094, 0.91181, 0.91251, 0.91325, 0.91352, \n",
    "                0.91407, 0.91427, 0.91590, 0.91714, 0.91706,\n",
    "                0.91775, 0.91801, 0.91642, 0.91628, 0.91646]\n",
    "auprc_scores_std = [0.139, 0.140, 0.141, 0.139, 0.137, \n",
    "                    0.137, 0.137, 0.133, 0.134, 0.135,\n",
    "                    0.133, 0.134, 0.136, 0.134, 0.132]"
   ]
  },
  {
   "cell_type": "code",
   "execution_count": 0,
   "metadata": {
    "colab": {},
    "colab_type": "code",
    "id": "YDB8axHU230Z"
   },
   "outputs": [],
   "source": [
    "import matplotlib.pyplot as plt\n",
    "import seaborn\n",
    "from pylab import rcParams\n",
    "\n",
    "%matplotlib inline\n",
    "\n",
    "rcParams['figure.figsize'] = 15, 7"
   ]
  },
  {
   "cell_type": "code",
   "execution_count": 0,
   "metadata": {
    "colab": {
     "base_uri": "https://localhost:8080/",
     "height": 497
    },
    "colab_type": "code",
    "id": "JiTeiKkS2l2y",
    "outputId": "5d15792f-616c-46d0-eb83-e2355b83ebea"
   },
   "outputs": [
    {
     "name": "stdout",
     "output_type": "stream",
     "text": [
      "Best results by combining kernels.\n",
      "All results are presented with a 2 standard deviation error bar around the mean.\n",
      "Quantity relative weight refers to the relative weight of the kernel 'WeightedDegreeStringKernel' as opposed to 'WeightedDegreePositionStringKernel'.\n"
     ]
    },
    {
     "data": {
      "image/png": "[encoded data removed]",
      "text/plain": [
       "<Figure size 1080x504 with 2 Axes>"
      ]
     },
     "metadata": {
      "tags": []
     },
     "output_type": "display_data"
    }
   ],
   "source": [
    "# Now switch to a more OO interface to exercise more features.\n",
    "fig, axs = plt.subplots(nrows=1, ncols=2)\n",
    "\n",
    "ax = axs[0]\n",
    "ax.errorbar(relative_weights, aur_roc_scores, yerr=aur_roc_std, fmt='o')\n",
    "\n",
    "best_i_index = 10\n",
    "ax.annotate(\"best score 0.99168 for weights [0.5, 1]\", xy=(relative_weights[best_i_index], aur_roc_scores[best_i_index]),\n",
    "             xytext=(0.22, 1.005),\n",
    "             arrowprops=dict(arrowstyle=\"simple\"))\n",
    "ax.set_ylim([np.min(aur_roc_scores) - np.max(aur_roc_std) * 2, np.max(aur_roc_scores) + np.max(aur_roc_std) * 2])\n",
    "\n",
    "ax.set_ylabel('ROC_AUC score')\n",
    "ax.set_xlabel('Relative weight.')\n",
    "\n",
    "\n",
    "\n",
    "ax = axs[1]\n",
    "ax.errorbar(relative_weights, auprc_scores, yerr=auprc_scores_std, fmt='o')\n",
    "\n",
    "best_i_index = 11\n",
    "ax.annotate(\"best score 0.91775 for weights [0.55, 1]\", xy=(relative_weights[best_i_index], auprc_scores[best_i_index]),\n",
    "             xytext=(0.18, 1.075),\n",
    "             arrowprops=dict(arrowstyle=\"simple\"))\n",
    "ax.set_ylim([np.min(auprc_scores) - np.max(auprc_scores_std)*1.2, np.max(auprc_scores) + np.max(auprc_scores_std)*1.2])\n",
    "\n",
    "ax.set_ylabel('AUPRC score')\n",
    "ax.set_xlabel('Relative weight.')\n",
    "\n",
    "\n",
    "print('Best results by combining kernels.\\nAll results are presented with a 2 standard deviation error bar around the mean.')\n",
    "print(\"Quantity relative weight refers to the relative weight of the kernel 'WeightedDegreeStringKernel' as opposed to 'WeightedDegreePositionStringKernel'.\")\n",
    "plt.show()"
   ]
  },
  {
   "cell_type": "markdown",
   "metadata": {
    "colab_type": "text",
    "id": "tH6zoW27BGy_"
   },
   "source": [
    "The best results for each score function were not achieved for the same weight between the kernels. However, differences are insignificant, especially for cases close to the weights 0.55, 0.6 that produced the best results. We continue with the best weight parameters of [0.5, 1] for the rest of this analysis."
   ]
  },
  {
   "cell_type": "markdown",
   "metadata": {
    "colab_type": "text",
    "id": "bWwgmMo1c6jq"
   },
   "source": [
    "A major challenge in this project is the task of finding a suitable feature representation of each DNA sequence that is capable to capture the most important characteristics relevent to splicing prediction. So far, we experimented using the SVM classifier in combination with a domain-specific string kernel. \n",
    "An alternative approach would be to retrieve the feature representation computed by the kernel function and feed these extracted features to a different classifier. We experimented heavili with this approach but did not manage to reach scores similar to the ones achieved when using the SVM classifier. The reason is that the kernels previously described attempted to create a feature representation in a high dimensional space managing to compare samples in that space. The SVM by taking the inner product achieves to resolve this similarity."
   ]
  },
  {
   "cell_type": "markdown",
   "metadata": {
    "colab_type": "text",
    "id": "hGK_-puViSxy"
   },
   "source": [
    "## Recurrent neural network\n",
    "\n",
    "Following the trend in the last years, we briefly experimented with artificial neural networks where connections between nodes form a directed graph along a temporal sequence, recurrent neural networks. We can expect that temporal relationships between successive genes can be captured. To alleviate for dependencies between genes with a considerable distance between them, we use Long short-term memory (LSTM) units, that can capture better cases such as these."
   ]
  },
  {
   "cell_type": "code",
   "execution_count": 13,
   "metadata": {
    "colab": {
     "base_uri": "https://localhost:8080/",
     "height": 35
    },
    "colab_type": "code",
    "id": "HjtRFZ_l-Tcg",
    "outputId": "3cecb09f-7c0b-4aca-d72d-124929556d94"
   },
   "outputs": [
    {
     "name": "stderr",
     "output_type": "stream",
     "text": [
      "Using TensorFlow backend.\n"
     ]
    }
   ],
   "source": [
    "from keras.models import Sequential\n",
    "from keras.layers import Dropout\n",
    "from keras.layers import LSTM\n",
    "from keras.layers import Dense\n",
    "from keras.layers import Bidirectional\n",
    "from keras.layers.embeddings import Embedding\n",
    "from keras.preprocessing import sequence\n",
    "from keras import metrics\n",
    "from keras.callbacks import EarlyStopping"
   ]
  },
  {
   "cell_type": "code",
   "execution_count": 0,
   "metadata": {
    "colab": {},
    "colab_type": "code",
    "id": "O_MJEzo6iS7v"
   },
   "outputs": [],
   "source": [
    "mapping = {'C': 0, 'T': 1, 'G': 2, 'A': 3}\n",
    "\n",
    "def features_to_one_hot_encoding(features):\n",
    "    features_to_numbers_mapping = np.array([[mapping[i] for i in list(x)] for x in features])\n",
    "    \n",
    "    features_one_hot_encoding = np.zeros((rnn_features_train.shape +  (len(mapping),)), dtype=int)\n",
    "    for i, train_sample in enumerate(rnn_features_train):\n",
    "        features_one_hot_encoding[i, np.arange(rnn_features_train[0].size), train_sample] = 1\n",
    "        \n",
    "    return features_one_hot_encoding\n",
    "  \n",
    "def features_to_number_list(features):\n",
    "    return np.array([[mapping[i] for i in list(x)] for x in features])"
   ]
  },
  {
   "cell_type": "code",
   "execution_count": 0,
   "metadata": {
    "colab": {},
    "colab_type": "code",
    "id": "QY7G_x28K62M"
   },
   "outputs": [],
   "source": [
    "import tensorflow as tf\n",
    "\n",
    "def auc_roc(y_true, y_pred):\n",
    "    # any tensorflow metric\n",
    "    value, update_op = tf.contrib.metrics.streaming_auc(y_pred, y_true)\n",
    "\n",
    "    # find all variables created for this metric\n",
    "    metric_vars = [i for i in tf.local_variables() if 'auc_roc' in i.name.split('/')[1]]\n",
    "\n",
    "    # Add metric variables to GLOBAL_VARIABLES collection.\n",
    "    # They will be initialized for new session.\n",
    "    for v in metric_vars:\n",
    "        tf.add_to_collection(tf.GraphKeys.GLOBAL_VARIABLES, v)\n",
    "\n",
    "    # force to update metric values\n",
    "    with tf.control_dependencies([update_op]):\n",
    "        value = tf.identity(value)\n",
    "        return value"
   ]
  },
  {
   "cell_type": "code",
   "execution_count": 0,
   "metadata": {
    "colab": {},
    "colab_type": "code",
    "id": "zDDw8X_N_Rd9"
   },
   "outputs": [],
   "source": [
    "X_train = features_to_number_list(features)\n",
    "X_test = features_to_number_list(features_test)\n",
    "\n",
    "# create validation set \n",
    "X_train_train, X_train_test, labels_train_train, labels_train_test = train_test_split(\n",
    "    X_train, labels, test_size=0.2, random_state=17)"
   ]
  },
  {
   "cell_type": "markdown",
   "metadata": {
    "colab_type": "text",
    "id": "75zjh8UrHZZd"
   },
   "source": [
    "Define the model parameters.\n",
    "\n",
    "The embedding method was inspired from [2] to provide a better generalization."
   ]
  },
  {
   "cell_type": "code",
   "execution_count": 0,
   "metadata": {
    "colab": {},
    "colab_type": "code",
    "id": "YFIDwyoTmhpc"
   },
   "outputs": [],
   "source": [
    "def create_model(bidirectional=True):\n",
    "    model = Sequential()\n",
    "    model.add(Embedding(4, 4, input_length=len(X_train[0])))\n",
    "    if bidirectional:\n",
    "        model.add(Bidirectional(LSTM(40)))\n",
    "    else:\n",
    "        model.add(LSTM(40))\n",
    "    model.add(Dropout(0.2))\n",
    "    model.add(Dense(1, activation='sigmoid'))\n",
    "    model.compile(loss='binary_crossentropy', optimizer='adam', metrics=[auc_roc])\n",
    "    print(model.summary())\n",
    "    return model\n",
    "  \n",
    "model = create_model(bidirectional=True)"
   ]
  },
  {
   "cell_type": "code",
   "execution_count": 0,
   "metadata": {
    "colab": {},
    "colab_type": "code",
    "id": "SDJjzji5iTAQ"
   },
   "outputs": [],
   "source": [
    "my_callbacks = [EarlyStopping(monitor='auc_roc', patience=50, verbose=1, mode='max')]\n",
    "\n",
    "number_of_classes_0 = collections.Counter(labels_train_train)[0]\n",
    "number_of_classes_1 = len(labels_train_train) - number_of_classes_0\n",
    "\n",
    "model.fit(X_train_train, labels_train_train, validation_data=(X_train_test, labels_train_test), epochs=1000, batch_size=128, \n",
    "          class_weight={0: number_of_classes_1 / len(labels_train_train), 1: number_of_classes_0 / len(labels_train_train)},\n",
    "          callbacks=my_callbacks)"
   ]
  },
  {
   "cell_type": "markdown",
   "metadata": {
    "colab_type": "text",
    "id": "tgGazfZVOSOW"
   },
   "source": [
    "We now print the results for the based weights as monitored from the validation set. We should mention that the results provided here are somewhat different as for the calculation of the area under the curve the raw probabilities of the predictions can be taken into account."
   ]
  },
  {
   "cell_type": "code",
   "execution_count": 0,
   "metadata": {
    "colab": {},
    "colab_type": "code",
    "id": "cCy_uaYtWT53"
   },
   "outputs": [],
   "source": [
    "# from google.colab import files\n",
    "\n",
    "#model.save_weights('model_weights.h5')\n",
    "#files.download('model_weights.h5') "
   ]
  },
  {
   "cell_type": "markdown",
   "metadata": {
    "colab_type": "text",
    "id": "wilNvZRLs-Ob"
   },
   "source": [
    "The best results we could achieve with this method is AUR_ROC = 0.9731 and AUPRC = 0.8920 for the test set.\n",
    "We should mention that our knowledge in RNNs is limited and potential much better results could be achieved. We experimented combining the predictions of these classifiers by creating a weighted voting between them, but no better results occurred. "
   ]
  },
  {
   "cell_type": "markdown",
   "metadata": {
    "colab_type": "text",
    "id": "gPjSepXXiB2K"
   },
   "source": [
    "## Final predictions\n",
    "\n",
    "Here we present the best classifier we could train. We train on the whole dataset. This may introduce some bias as the hyperparameters were selected from performing cross validation on the training set. We expect this fact not to affect our results. "
   ]
  },
  {
   "cell_type": "code",
   "execution_count": 29,
   "metadata": {
    "colab": {
     "base_uri": "https://localhost:8080/",
     "height": 90
    },
    "colab_type": "code",
    "id": "5iZg_qpEnT-b",
    "outputId": "e62bb861-c0a4-4043-c6d5-a8bde881623f"
   },
   "outputs": [
    {
     "data": {
      "text/plain": [
       "custom_SVM(C=0.1, class_weight='balanced', gap=0,\n",
       "      kernel=['WeightedDegreeStringKernel', 'WeightedDegreePositionStringKernel'],\n",
       "      kernel_degree=5, kernel_weights=[0.5, 1], order=2, random_state=None,\n",
       "      shift=18)"
      ]
     },
     "execution_count": 29,
     "metadata": {
      "tags": []
     },
     "output_type": "execute_result"
    }
   ],
   "source": [
    "clf = custom_SVM(C=0.1, kernel_degree=5, shift=18, kernel=[\"WeightedDegreeStringKernel\", \"WeightedDegreePositionStringKernel\"], class_weight='balanced', kernel_weights=[0.5, 1])\n",
    "clf.fit(features, labels)"
   ]
  },
  {
   "cell_type": "code",
   "execution_count": 0,
   "metadata": {
    "colab": {},
    "colab_type": "code",
    "id": "98l8HHFmSHCz"
   },
   "outputs": [],
   "source": [
    "# classes are 0 and 1\n",
    "\n",
    "predictions = clf.predict(features_test)\n",
    "predictions_proba = clf.predict_proba(features_test)[:, 1]"
   ]
  },
  {
   "cell_type": "markdown",
   "metadata": {
    "colab_type": "text",
    "id": "3Jmar_IhH8Rq"
   },
   "source": [
    "## Visualizations"
   ]
  },
  {
   "cell_type": "code",
   "execution_count": 0,
   "metadata": {
    "colab": {},
    "colab_type": "code",
    "id": "2CYVY0BEnnV4"
   },
   "outputs": [],
   "source": [
    "def plot_roc_curve(true_values, predicted_values):\n",
    "    # compute ROC curve\n",
    "    fpr, tpr, thresholds_roc = roc_curve(true_values, predicted_values)\n",
    "    roc_auc = auc(fpr, tpr)\n",
    "    precision, recall, thresholds_prc = precision_recall_curve(true_values, predicted_values)\n",
    "\n",
    "    # compute precision-recall curve\n",
    "    auprc = auc(recall, precision)\n",
    "    precision_random, recall_random, thresholds_random = precision_recall_curve(true_values, np.random.rand(len(true_values)))\n",
    "    auprc_random = auc(recall_random, precision_random)\n",
    "    other_scores_validation = [roc_auc, auprc, auprc_random]\n",
    "\n",
    "    # plot curves\n",
    "    plt.figure()\n",
    "    lw = 2\n",
    "    plt.plot(fpr, tpr, color='darkorange',\n",
    "                     lw=lw, label='ROC curve (area = %0.4f)' % roc_auc)\n",
    "    plt.plot([0, 1], [0, 1], color='navy', lw=lw, linestyle='--')\n",
    "    plt.xlim([0.0, 1.0])\n",
    "    plt.ylim([0.0, 1.05])\n",
    "    plt.xlabel('1 - Specificity / False Positive Rate')\n",
    "    plt.ylabel('Sensibility / True Positive Rate')\n",
    "    plt.title('Receiver Operating Characteristic curve')\n",
    "    plt.legend(loc=\"lower right\")\n",
    "    #plt.savefig('./models/' + experiment_id + '/' + model_name + '_roc_curve_validation.png')\n",
    "\n",
    "    plt.figure()\n",
    "    lw = 2\n",
    "    plt.plot(recall, precision, color='darkorange',\n",
    "                         lw=lw, label='AUPRC curve (area = %0.4f)' % auprc)\n",
    "    plt.plot(recall_random, precision_random, color='navy', linestyle='--',\n",
    "                         lw=lw, label='random AUPRC curve (area = %0.4f)' % auprc_random)\n",
    "    plt.xlim([0.0, 1.0])\n",
    "    plt.ylim([0.0, 1.05])\n",
    "    plt.xlabel('Recall')\n",
    "    plt.ylabel('Precision')\n",
    "    plt.title('Precision-Recall curve')\n",
    "    plt.legend(loc=\"best\")"
   ]
  },
  {
   "cell_type": "code",
   "execution_count": 32,
   "metadata": {
    "colab": {
     "base_uri": "https://localhost:8080/",
     "height": 897
    },
    "colab_type": "code",
    "id": "lt9reRUsZG-R",
    "outputId": "463f9fcf-4b97-4b30-dc39-cf39362ef320"
   },
   "outputs": [
    {
     "data": {
      "image/png": "[encoded data removed]",
      "text/plain": [
       "<Figure size 1080x504 with 1 Axes>"
      ]
     },
     "metadata": {
      "tags": []
     },
     "output_type": "display_data"
    },
    {
     "data": {
      "image/png": "[encoded data removed]",
      "text/plain": [
       "<Figure size 1080x504 with 1 Axes>"
      ]
     },
     "metadata": {
      "tags": []
     },
     "output_type": "display_data"
    }
   ],
   "source": [
    "plot_roc_curve(labels_test, predictions_proba)"
   ]
  },
  {
   "cell_type": "code",
   "execution_count": 33,
   "metadata": {
    "colab": {
     "base_uri": "https://localhost:8080/",
     "height": 625
    },
    "colab_type": "code",
    "id": "x5W7l3qyra-W",
    "outputId": "3dde6403-9c10-49c9-d0b9-518c7622ea29"
   },
   "outputs": [
    {
     "data": {
      "text/plain": [
       "<matplotlib.axes._subplots.AxesSubplot at 0x7f9e4de595f8>"
      ]
     },
     "execution_count": 33,
     "metadata": {
      "tags": []
     },
     "output_type": "execute_result"
    },
    {
     "data": {
      "image/png": "[encoded data removed]",
      "text/plain": [
       "<Figure size 1080x720 with 1 Axes>"
      ]
     },
     "metadata": {
      "tags": []
     },
     "output_type": "display_data"
    }
   ],
   "source": [
    "df = pd.DataFrame()\n",
    "df['prediction'] = predictions_proba\n",
    "df['true label'] = labels_test\n",
    "\n",
    "seaborn.set(rc={'figure.figsize': (15, 10)})\n",
    "seaborn.swarmplot(y='prediction', x='true label', data=df)"
   ]
  },
  {
   "cell_type": "markdown",
   "metadata": {
    "colab_type": "text",
    "id": "XALujsrqDrVB"
   },
   "source": [
    "As we can observe our best method managed to achieve a AUC_ROC score of 0.9952 and a AUPRC score of 0.9599. This score of course depends also on the the random split to create this test set.\n"
   ]
  },
  {
   "cell_type": "markdown",
   "metadata": {
    "colab_type": "text",
    "id": "Hwhwth5AGkbN"
   },
   "source": [
    "## Discussion\n",
    "\n",
    "In this notebook we experimented with some of the methods known to give the most promising results. We tried different algorithms and parameters. We found the most success using Support Vector Machines with established kernels and combinations of them. In the next notebook, we will adapt some of the methods proposed here to human DNA for the same classification task.\n",
    "\n",
    "\n",
    "Here for completeness reasons we provide some of the final results in the form requested in a pandas dataframe format. These include some of the best configurations after searching through the parameter space by conducting cross validation. All results regard the test set, created at the beginning.\n",
    "\n",
    "We can observe that for this specific split, our selected model performs marginally worse than other candidate models. Nonetheless, we base our selection on the cross-validation performance of each model rather than the test score. Τhe above scores indicate the performance of each model on a particular (random) test set and it may happen that for different train-test splits our model outperforms the alternative candidate models. We can expect that these biases will be eliminated for an infinite size of the train set, used for the model selection and of course the finite size of the test set (only 440 samples)."
   ]
  },
  {
   "cell_type": "code",
   "execution_count": 28,
   "metadata": {
    "colab": {
     "base_uri": "https://localhost:8080/",
     "height": 168
    },
    "colab_type": "code",
    "id": "6s43nkleEPzK",
    "outputId": "2e745213-af6f-42c3-de84-2097d685d68e",
    "scrolled": true
   },
   "outputs": [
    {
     "data": {
      "text/html": [
       "<div>\n",
       "<style scoped>\n",
       "    .dataframe tbody tr th:only-of-type {\n",
       "        vertical-align: middle;\n",
       "    }\n",
       "\n",
       "    .dataframe tbody tr th {\n",
       "        vertical-align: top;\n",
       "    }\n",
       "\n",
       "    .dataframe thead th {\n",
       "        text-align: right;\n",
       "    }\n",
       "</style>\n",
       "<table border=\"1\" class=\"dataframe\">\n",
       "  <thead>\n",
       "    <tr style=\"text-align: right;\">\n",
       "      <th></th>\n",
       "      <th>model name</th>\n",
       "      <th>AUROC</th>\n",
       "      <th>AUPRC</th>\n",
       "    </tr>\n",
       "  </thead>\n",
       "  <tbody>\n",
       "    <tr>\n",
       "      <th>0</th>\n",
       "      <td>Bidirectional LSTMs</td>\n",
       "      <td>0.9731</td>\n",
       "      <td>0.8920</td>\n",
       "    </tr>\n",
       "    <tr>\n",
       "      <th>1</th>\n",
       "      <td>WeightedDegreeStringKernel</td>\n",
       "      <td>0.9915</td>\n",
       "      <td>0.9294</td>\n",
       "    </tr>\n",
       "    <tr>\n",
       "      <th>2</th>\n",
       "      <td>WeightedDegreePositionStringKernel</td>\n",
       "      <td>0.9956</td>\n",
       "      <td>0.9682</td>\n",
       "    </tr>\n",
       "    <tr>\n",
       "      <th>3</th>\n",
       "      <td>Weighted average of previous two kernels</td>\n",
       "      <td>0.9952</td>\n",
       "      <td>0.9559</td>\n",
       "    </tr>\n",
       "  </tbody>\n",
       "</table>\n",
       "</div>"
      ],
      "text/plain": [
       "                                 model name   AUROC   AUPRC\n",
       "0                       Bidirectional LSTMs  0.9731  0.8920\n",
       "1                WeightedDegreeStringKernel  0.9915  0.9294\n",
       "2        WeightedDegreePositionStringKernel  0.9956  0.9682\n",
       "3  Weighted average of previous two kernels  0.9952  0.9559"
      ]
     },
     "execution_count": 28,
     "metadata": {
      "tags": []
     },
     "output_type": "execute_result"
    }
   ],
   "source": [
    "# WeightedDegreeStringKernel best configurations: C:0.1 class_weight: balanced kernel_degree: 5\n",
    "# WeightedDegreePositionStringKernel best configurations: C:0.1 class_weight: balanced kernel_degree: 5 shift: 18\n",
    "\n",
    "models = [['Bidirectional LSTMs', 0.9731, 0.8920],\n",
    "          ['WeightedDegreeStringKernel', 0.9915, 0.9294],\n",
    "          ['WeightedDegreePositionStringKernel', 0.9956, 0.9682],\n",
    "          ['Weighted average of previous two kernels', 0.9952, 0.9559]]\n",
    "\n",
    "\n",
    "classifiers = pd.DataFrame(models, columns=['model name', 'AUROC', 'AUPRC'])\n",
    "classifiers"
   ]
  },
  {
   "cell_type": "markdown",
   "metadata": {
    "colab_type": "text",
    "id": "w4JNmd-h9fG3"
   },
   "source": [
    "## References\n",
    "\n",
    "\n",
    "\n",
    "*  [1] G. Ratsch, S. Sonnenburg, and B. Scholkopf. RASE: recognition of\n",
    "alternatively spliced exons in C. elegans. Bioinformatics, 21(Suppl. 1):\n",
    "i369–i377, June 2005.\n",
    "\n",
    "*  [2] B. Lee, T. Lee, B. Na, and S. Yoon. DNA-level splice junction\n",
    "prediction using deep recurrent neural networks. arXiv\n",
    "preprint arXiv:1512.05135, 2015.\n",
    "\n",
    "\n"
   ]
  },
  {
   "cell_type": "markdown",
   "metadata": {
    "colab_type": "text",
    "id": "7yVOCFicV1pJ"
   },
   "source": [
    "<!--bibtex\n",
    "\n",
    "@Article{PER-GRA:2007,\n",
    "  Author    = {P\\'erez, Fernando and Granger, Brian E.},\n",
    "  Title     = {{IP}ython: a System for Interactive Scientific Computing},\n",
    "  Journal   = {Computing in Science and Engineering},\n",
    "  Volume    = {9},\n",
    "  Number    = {3},\n",
    "  Pages     = {21--29},\n",
    "  month     = may,\n",
    "  year      = 2007,\n",
    "  url       = \"http://ipython.org\",\n",
    "  ISSN      = \"1521-9615\",\n",
    "  doi       = {10.1109/MCSE.2007.53},\n",
    "  publisher = {IEEE Computer Society},\n",
    "}\n",
    "\n",
    "@article{Papa2007,\n",
    "  author = {Papa, David A. and Markov, Igor L.},\n",
    "  journal = {Approximation algorithms and metaheuristics},\n",
    "  pages = {1--38},\n",
    "  title = {{Hypergraph partitioning and clustering}},\n",
    "  url = {http://www.podload.org/pubs/book/part\\_survey.pdf},\n",
    "  year = {2007}\n",
    "}\n",
    "\n",
    "-->"
   ]
  },
  {
   "cell_type": "markdown",
   "metadata": {
    "colab_type": "text",
    "id": "L9avQ_0-VzqU"
   },
   "source": [
    "<!--bibtex\n",
    "\n",
    "@Article{PER-GRA:2007,\n",
    "  Author    = {P\\'erez, Fernando and Granger, Brian E.},\n",
    "  Title     = {{IP}ython: a System for Interactive Scientific Computing},\n",
    "  Journal   = {Computing in Science and Engineering},\n",
    "  Volume    = {9},\n",
    "  Number    = {3},\n",
    "  Pages     = {21--29},\n",
    "  month     = may,\n",
    "  year      = 2007,\n",
    "  url       = \"http://ipython.org\",\n",
    "  ISSN      = \"1521-9615\",\n",
    "  doi       = {10.1109/MCSE.2007.53},\n",
    "  publisher = {IEEE Computer Society},\n",
    "}\n",
    "\n",
    "@article{Papa2007,\n",
    "  author = {Papa, David A. and Markov, Igor L.},\n",
    "  journal = {Approximation algorithms and metaheuristics},\n",
    "  pages = {1--38},\n",
    "  title = {{Hypergraph partitioning and clustering}},\n",
    "  url = {http://www.podload.org/pubs/book/part\\_survey.pdf},\n",
    "  year = {2007}\n",
    "}\n",
    "\n",
    "-->"
   ]
  }
 ],
 "metadata": {
  "colab": {
   "collapsed_sections": [],
   "name": "ex1_1.ipynb",
   "provenance": [],
   "version": "0.3.2"
  },
  "kernelspec": {
   "display_name": "Python 3",
   "language": "python",
   "name": "python3"
  },
  "language_info": {
   "codemirror_mode": {
    "name": "ipython",
    "version": 3
   },
   "file_extension": ".py",
   "mimetype": "text/x-python",
   "name": "python",
   "nbconvert_exporter": "python",
   "pygments_lexer": "ipython3",
   "version": "3.6.7"
  }
 },
 "nbformat": 4,
 "nbformat_minor": 1
}
