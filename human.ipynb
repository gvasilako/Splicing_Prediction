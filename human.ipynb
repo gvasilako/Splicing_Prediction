{
 "cells": [
  {
   "cell_type": "markdown",
   "metadata": {
    "colab_type": "text",
    "id": "n4yF9sszcFks"
   },
   "source": [
    "Team members: \n",
    "\n",
    "\n",
    ">First Name| Last Name | Student number\n",
    ">--- | --- | --- | \n",
    ">Sotiris | Anagnostidis | 18-949-743\n",
    ">Adamos | Solomou | 18-947-192\n",
    ">Georgios | Vasilakopoulos | 18-954-768\n",
    "\n"
   ]
  },
  {
   "cell_type": "markdown",
   "metadata": {
    "colab_type": "text",
    "id": "CC3tgMYg8yuv"
   },
   "source": [
    "For this second classification task, we will tackle the same problem but in a different dataset, compising of human DNA sequences. We can expect that many outcomes from the analysis in the C. Elegans DNA dataset will also apply in this case. For this reason, we will try to build on our previous results by making sufficient changes. These changes can be attributed to the diversities between the DNA samples as well as the size of the two datasets and the severity of class imbalance in each of them.  \n",
    "\n",
    "As with the previous notebook, cells are not executed as the time required is relatively large."
   ]
  },
  {
   "cell_type": "markdown",
   "metadata": {
    "colab_type": "text",
    "id": "X1KEk0ofxRSW"
   },
   "source": [
    "## Dependencies "
   ]
  },
  {
   "cell_type": "code",
   "execution_count": 0,
   "metadata": {
    "colab": {},
    "colab_type": "code",
    "id": "Bz9NhidjcFkt"
   },
   "outputs": [],
   "source": [
    "import numpy as np \n",
    "import pandas as pd\n",
    "import shogun as sg\n",
    "import matplotlib.pyplot as plt\n",
    "%matplotlib inline  \n",
    "\n",
    "from sklearn.svm import SVC\n",
    "from sklearn.utils import shuffle \n",
    "from sklearn.base import BaseEstimator, ClassifierMixin\n",
    "from sklearn.model_selection import KFold, StratifiedKFold, GridSearchCV\n",
    "from sklearn.metrics import roc_curve, auc, classification_report, make_scorer, balanced_accuracy_score\n",
    "from sklearn.metrics import accuracy_score, roc_auc_score, confusion_matrix, precision_recall_curve, f1_score\n",
    "\n",
    "from shogun import DNA\n",
    "from shogun import StringCharFeatures, StringWordFeatures\n",
    "from shogun import SqrtDiagKernelNormalizer, IdentityKernelNormalizer\n",
    "from shogun import WeightedDegreeStringKernel, CommWordStringKernel, WeightedDegreePositionStringKernel"
   ]
  },
  {
   "cell_type": "markdown",
   "metadata": {
    "colab_type": "text",
    "id": "cmdBVzeIrLo8"
   },
   "source": [
    "## Function definitions "
   ]
  },
  {
   "cell_type": "code",
   "execution_count": 0,
   "metadata": {
    "colab": {},
    "colab_type": "code",
    "id": "FEPnO2u-cFk1"
   },
   "outputs": [],
   "source": [
    "# sampling function\n",
    "\n",
    "def sampler(X, y, q):\n",
    "    \n",
    "    \"\"\"\n",
    "    Random undersampling without replacement \n",
    "    \n",
    "    X : array-like, shape = [n_samples]\n",
    "    y : array-like, shape = [n_samples]\n",
    "    q : float\n",
    "         The percentage of samples to be preserved in the majority class (rounded to the\n",
    "         nearest integer).\n",
    "    \"\"\"\n",
    "    neg_idx = np.where(y_train == -1)[False] # negative sample indeces\n",
    "    pos_idx = np.where(y_train == +1)[False] # positive sample indeces\n",
    "      \n",
    "    # Generate random indeces out of the negative sample pool without replacement     \n",
    "    neg_mask = np.random.choice(neg_idx, size=int(q*neg_idx.size), replace=False)\n",
    "    \n",
    "    # Perform subsampling\n",
    "    X_resampled_ = np.append(X[neg_mask], X[pos_idx])\n",
    "    y_resampled_ = np.append(y[neg_mask], y[pos_idx])\n",
    "    \n",
    "    X_resampled, y_resampled = shuffle(X_resampled_, y_resampled_)\n",
    "    \n",
    "    return X_resampled, y_resampled    "
   ]
  },
  {
   "cell_type": "code",
   "execution_count": 0,
   "metadata": {
    "colab": {},
    "colab_type": "code",
    "id": "IbiKc09ycFk3"
   },
   "outputs": [],
   "source": [
    "# Scoring functions\n",
    "\n",
    "def roc_auc(y_true, y_pred): \n",
    "    fpr, tpr, thresholds_roc = roc_curve(y_true, y_pred)\n",
    "\n",
    "    return auc(fpr, tpr)\n",
    "\n",
    "def prc_auc(y_true, y_pred):\n",
    "    precision, recall, _ = precision_recall_curve(y_true, y_pred)\n",
    "\n",
    "    return auc(recall, precision)"
   ]
  },
  {
   "cell_type": "code",
   "execution_count": 0,
   "metadata": {
    "colab": {},
    "colab_type": "code",
    "id": "EEpZFtotcFk6"
   },
   "outputs": [],
   "source": [
    "# Visualization \n",
    "\n",
    "def plot_roc_curve(true_values, predicted_values):\n",
    "    # compute ROC curve\n",
    "    fpr, tpr, thresholds_roc = roc_curve(true_values, predicted_values)\n",
    "    roc_auc = auc(fpr, tpr)\n",
    "    precision, recall, thresholds_prc = precision_recall_curve(true_values, predicted_values)\n",
    "\n",
    "    # compute precision-recall curve\n",
    "    auprc = auc(recall, precision)\n",
    "    precision_random, recall_random, thresholds_random = precision_recall_curve(true_values, np.random.rand(len(true_values)))\n",
    "    auprc_random = auc(recall_random, precision_random)\n",
    "    other_scores_validation = [roc_auc, auprc, auprc_random]\n",
    "\n",
    "    # plot curves\n",
    "    plt.figure()\n",
    "    lw = 2\n",
    "    plt.plot(fpr, tpr, color='darkorange',\n",
    "                     lw=lw, label='ROC curve (area = %0.4f)' % roc_auc)\n",
    "    plt.plot([0, 1], [0, 1], color='navy', lw=lw, linestyle='--')\n",
    "    plt.xlim([0.0, 1.0])\n",
    "    plt.ylim([0.0, 1.05])\n",
    "    plt.xlabel('1 - Specificity / False Positive Rate')\n",
    "    plt.ylabel('Sensibility / True Positive Rate')\n",
    "    plt.title('Receiver Operating Characteristic curve')\n",
    "    plt.legend(loc=\"lower right\")\n",
    "    #plt.savefig('./models/' + experiment_id + '/' + model_name + '_roc_curve_validation.png')\n",
    "\n",
    "    plt.figure()\n",
    "    lw = 2\n",
    "    plt.plot(recall, precision, color='darkorange',\n",
    "                         lw=lw, label='AUPRC curve (area = %0.4f)' % auprc)\n",
    "    plt.plot(recall_random, precision_random, color='navy', linestyle='--',\n",
    "                         lw=lw, label='random AUPRC curve (area = %0.4f)' % auprc_random)\n",
    "    plt.xlim([0.0, 1.0])\n",
    "    plt.ylim([0.0, 1.05])\n",
    "    plt.xlabel('Recall')\n",
    "    plt.ylabel('Precision')\n",
    "    plt.title('Precision-Recall curve')\n",
    "    plt.legend(loc=\"best\")"
   ]
  },
  {
   "cell_type": "markdown",
   "metadata": {
    "colab_type": "text",
    "id": "eY-gLSJ_eSeV"
   },
   "source": [
    "## Import the dataset "
   ]
  },
  {
   "cell_type": "code",
   "execution_count": 0,
   "metadata": {
    "colab": {},
    "colab_type": "code",
    "id": "-qACzHoWcFkv"
   },
   "outputs": [],
   "source": [
    "# Load the data\n",
    "train = pd.read_csv('data/human_dna_train_split.csv', header=0)\n",
    "valid = pd.read_csv('data/human_dna_validation_split.csv', header=0)\n",
    "test = pd.read_csv('data/human_dna_test_split.csv', header=0)\n",
    "hidden = pd.read_csv('data/human_dna_test_hidden_split.csv', header=0)\n",
    "    \n",
    "# Training data \n",
    "X_train, y_train =  shuffle(train['sequences'].values, train['labels'].values)\n",
    "\n",
    "# Validation data\n",
    "X_valid, y_valid = shuffle(valid['sequences'].values, valid['labels'].values)\n",
    "\n",
    "# Test data\n",
    "X_test, y_test = shuffle(test['sequences'].values, test['labels'].values)\n",
    "\n",
    "# Hidden test data \n",
    "X_hidden = hidden['sequences'].values\n",
    "\n",
    "print('Training data: ', X_train.shape)\n",
    "\n",
    "print('Validation data: ', X_valid.shape)\n",
    "\n",
    "print('Testing data: ', X_test.shape)\n",
    "\n",
    "print('Hidden data: ', X_hidden.shape)"
   ]
  },
  {
   "cell_type": "markdown",
   "metadata": {
    "colab_type": "text",
    "id": "NCDr1FnqegP7"
   },
   "source": [
    "### Class imbalance "
   ]
  },
  {
   "cell_type": "code",
   "execution_count": 0,
   "metadata": {
    "colab": {},
    "colab_type": "code",
    "id": "EAlqTq7OcFkz"
   },
   "outputs": [],
   "source": [
    "# Class imbalance\n",
    "print('Percentage of positive training samples: ' , 100*sum(y_train == +1)/y_train.size)\n",
    "print('Percentage of positive validation samples: ' , 100*sum(y_valid == +1)/y_valid.size)\n",
    "print('Percentage of positive testing samples: ' , 100*sum(y_test == +1)/y_test.size)"
   ]
  },
  {
   "cell_type": "markdown",
   "metadata": {
    "colab_type": "text",
    "id": "P9DKs8lPetRs"
   },
   "source": [
    "In this dataset, the imbalance between the two classes is even more severe than in the C. Elegans DNA dataset. Specifically, out of all data points with known labels only **0.294%** of them belong to the positive class. \n",
    "\n",
    "Due to the large number of training samples, we will employ **undersampling** of the training set in an attempt to mitigate the imbalance between the two classes during training. In addition to undersampling, a **class sensitive loss function** will be used to train the model, by assigning a larger error when incorrectly classifying samples from the under-represented class. \n"
   ]
  },
  {
   "cell_type": "markdown",
   "metadata": {
    "colab_type": "text",
    "id": "7uyV_ekIw0da"
   },
   "source": [
    "### Undersampling "
   ]
  },
  {
   "cell_type": "markdown",
   "metadata": {
    "colab_type": "text",
    "id": "MVaDVFiWxgQl"
   },
   "source": [
    "We choose to sample only 20% of the samples that belong to the negative class while keeping all the positive samples. The choice is based on heuristics but also due to the fact that having a much larger dataset (e.g. 200,000 data points) would lead to much longer training times. All models will be trained on this same dataset. "
   ]
  },
  {
   "cell_type": "code",
   "execution_count": 0,
   "metadata": {
    "colab": {},
    "colab_type": "code",
    "id": "gPgLjy3RxZmR"
   },
   "outputs": [],
   "source": [
    "X_resampled, y_resampled = sampler(X_train, y_train, q=0.2)\n",
    "\n",
    "print('Training data after undersampling: ', X_resampled.shape)\n",
    "\n",
    "N_train = y_resampled.size\n",
    "N_train_pos = sum(y_resampled == +1)\n",
    "N_train_neg = sum(y_resampled == -1)"
   ]
  },
  {
   "cell_type": "markdown",
   "metadata": {
    "colab_type": "text",
    "id": "SxECxNrsrSal"
   },
   "source": [
    "# Support Vector Machine "
   ]
  },
  {
   "cell_type": "markdown",
   "metadata": {
    "colab_type": "text",
    "id": "vqr0a1UZcFk8"
   },
   "source": [
    "For the purpose of classifying the DNA sequences we will apply the same technique as in the previous dataset. Namely, a domain-specific string kernel is used to extract feature representations for the DNA sequences and subsequently an SVM is used to classify the sequences. \n",
    "\n",
    "Following the results of the previous experiment, we restrict our attention to the following two kernels: \n",
    "\n",
    "*   Weighted Degree Kernel  \n",
    "*   Weighted Degree Kernel with Shifts \n",
    "\n",
    "\n",
    "The reason is that the aforementioned kernels outperformed the spectrum kernel in the particular task. \n",
    "\n",
    "Since both the (undersampled) training and validation sets are relatively large we decided to perform a **single fold validation** instead of k-fold cross validation to avoid excessively long running times. \n",
    "\n",
    "Following the results from the previous experiment we try parameter values that are close to the ones that proved to be optimal for the previous dataset. We select the parameters that maximize the area under the precision-recall curve while taking into account changes in the area under the precision-recall curve. "
   ]
  },
  {
   "cell_type": "markdown",
   "metadata": {
    "colab_type": "text",
    "id": "8nlmkTticFk9"
   },
   "source": [
    "## Weighted Degree String Kernel "
   ]
  },
  {
   "cell_type": "markdown",
   "metadata": {
    "colab_type": "text",
    "id": "GbqZLpLb07xP"
   },
   "source": [
    "### Hyperparameter Selection "
   ]
  },
  {
   "cell_type": "code",
   "execution_count": 0,
   "metadata": {
    "colab": {},
    "colab_type": "code",
    "id": "qtooF-UucFk-"
   },
   "outputs": [],
   "source": [
    "# Prepare training data\n",
    "feats_train = sg.StringCharFeatures(list(X_resampled), sg.DNA)\n",
    "train_labels = sg.BinaryLabels(y_resampled)\n",
    "\n",
    "# Prepare validation data \n",
    "feats_valid = sg.StringCharFeatures(list(X_valid), sg.DNA)\n",
    "\n",
    "# Validation Grid Search \n",
    "param_grid = {'degree': [5, 7, 9], 'C': [0.01, 0.1, 1]}\n",
    "\n",
    "best_params = {'degree': 0, 'C': 0}\n",
    "best_score = {'roc_auc': 0, 'prc_auc': 0}\n",
    "\n",
    "classifier_ = sg.LibSVM()\n",
    "\n",
    "for k_degree in param_grid['degree']: \n",
    "\n",
    "    # Compute kernel \n",
    "    kernel_train = sg.WeightedDegreeStringKernel(feats_train, feats_train, k_degree)\n",
    "\n",
    "    for C in param_grid['C']: \n",
    "        classifier_.set_C((N_train/N_train_neg)*C, (N_train/N_train_pos)*C) # weighted classes\n",
    "        classifier_.set_kernel(kernel_train)\n",
    "\n",
    "        # Fit\n",
    "        classifier_.set_labels(train_labels)\n",
    "        classifier_.train(feats_train)\n",
    "\n",
    "        # Predict\n",
    "        y_valid_pred = classifier_.apply(feats_valid).get_values()\n",
    "\n",
    "        roc_score = roc_auc(y_valid, y_valid_pred)\n",
    "        prc_score = prc_auc(y_valid, y_valid_pred)\n",
    "\n",
    "        print('Kernel Degree = %i, C = %f, AUROC = %f, AUPRC = %f' %(k_degree, C, roc_score, prc_score))\n",
    "\n",
    "        # Compare current area under precision-recall curve score with best score\n",
    "        if prc_score > best_score['prc_auc']:\n",
    "            # Update best score\n",
    "            best_score['roc_auc'] = roc_score\n",
    "            best_score['prc_auc'] = prc_score\n",
    "\n",
    "            # Update best parameters \n",
    "            best_params['C'] = C\n",
    "            best_params['degree'] = k_degree\n",
    "\n",
    "print('Best configuration: Kernel Degree = %i, C = %f, AUROC = %f, AUPRC = %f' %(best_params['degree'], best_params['C'], best_score['roc_auc'], best_score['prc_auc']))\n"
   ]
  },
  {
   "cell_type": "markdown",
   "metadata": {
    "colab_type": "text",
    "id": "NujeezN05hpL"
   },
   "source": [
    "### Training best configuration "
   ]
  },
  {
   "cell_type": "markdown",
   "metadata": {
    "colab_type": "text",
    "id": "AXyNqjjY6KLS"
   },
   "source": [
    "Once the hyperparameters are determined we train the final model by appending to the training set all the validation samples that belong to the positive class. This is done in an attempt to increase the size of the under-represented class during training. "
   ]
  },
  {
   "cell_type": "code",
   "execution_count": 0,
   "metadata": {
    "colab": {},
    "colab_type": "code",
    "id": "lXaKbyi0Ag3r"
   },
   "outputs": [],
   "source": [
    "# Append positive validation samples to the training set\n",
    "X = np.concatenate((X_resampled, X_valid[y_valid == +1]))\n",
    "y = np.concatenate((y_resampled, y_valid[y_valid == +1]))\n",
    "\n",
    "N = y.size\n",
    "N_pos = sum(y == +1)\n",
    "N_neg = sum(y == -1)\n",
    "\n",
    "print('Total number of training points: ', N)\n",
    "\n",
    "# Prepare training data\n",
    "feats = sg.StringCharFeatures(list(X), sg.DNA)\n",
    "labels = sg.BinaryLabels(y)"
   ]
  },
  {
   "cell_type": "code",
   "execution_count": 0,
   "metadata": {
    "colab": {},
    "colab_type": "code",
    "id": "vHnoiVWicFk_"
   },
   "outputs": [],
   "source": [
    "# best_params = {'degree': 9, 'C': 0.1}\n",
    "\n",
    "# Compute the kernel \n",
    "kernel = sg.WeightedDegreeStringKernel(feats, feats, best_params['degree'])\n",
    "\n",
    "classifier_wd = sg.LibSVM()\n",
    "classifier_wd.set_C((N/N_neg)*best_params['C'], (N/N_pos)*best_params['C'])\n",
    "classifier_wd.set_kernel(kernel)\n",
    "\n",
    "# Fit \n",
    "classifier_wd.set_labels(labels)\n",
    "classifier_wd.train(feats)"
   ]
  },
  {
   "cell_type": "markdown",
   "metadata": {
    "colab_type": "text",
    "id": "7b6LkWBR8-Mf"
   },
   "source": [
    "### Testing"
   ]
  },
  {
   "cell_type": "code",
   "execution_count": 0,
   "metadata": {
    "colab": {},
    "colab_type": "code",
    "id": "PWvA6fmvcFlC"
   },
   "outputs": [],
   "source": [
    "# Testing \n",
    "feats_test = sg.StringCharFeatures(list(X_test), sg.DNA)\n",
    "\n",
    "y_test_v_pred = classifier_wd.apply(feats_test).get_values()\n",
    "y_test_l_pred = classifier_wd.apply(feats_test).get_labels()\n",
    "\n",
    "print('Number of test samples predicted as positive = ', sum(y_test_l_pred == +1))\n",
    "\n",
    "print('Scores on the testing set')\n",
    "print('AUROC = ', roc_auc(y_test, y_test_v_pred))\n",
    "print('AUPRC = ', prc_auc(y_test, y_test_v_pred))\n",
    "print('F1 Score = ', f1_score(y_test, y_test_l_pred))\n",
    "print('Balanced Accuracy = ', balanced_accuracy_score(y_test, y_test_l_pred))\n"
   ]
  },
  {
   "cell_type": "markdown",
   "metadata": {
    "colab_type": "text",
    "id": "5fibSSbDcFlG"
   },
   "source": [
    "## Weighted Degree String Kernel with Shifts"
   ]
  },
  {
   "cell_type": "markdown",
   "metadata": {
    "colab_type": "text",
    "id": "AuuBTNwn9POE"
   },
   "source": [
    "### Hyperparameter Selection "
   ]
  },
  {
   "cell_type": "markdown",
   "metadata": {
    "colab_type": "text",
    "id": "cSMwjJ3Z9bih"
   },
   "source": [
    "As the training procedure with the particular kernel function takes a significant amount of time (depending on the amount of data points training a single SVM took up to 48hours on our local machines) we decided to fix the value of the parameter C to 1 (generally observed to perform relatively well on validation data) and the kernel degree to 9 (optimal for the above kernel) and find an optimal shift using validation. "
   ]
  },
  {
   "cell_type": "code",
   "execution_count": 0,
   "metadata": {
    "colab": {},
    "colab_type": "code",
    "id": "cFvVyTcycFlH"
   },
   "outputs": [],
   "source": [
    "# Prepare training data\n",
    "feats_train = sg.StringCharFeatures(list(X_resampled), sg.DNA)\n",
    "train_labels = sg.BinaryLabels(y_resampled)\n",
    "\n",
    "# Prepare validation data \n",
    "feats_valid = sg.StringCharFeatures(list(X_valid), sg.DNA)\n",
    "\n",
    "# Validation Grid Search \n",
    "param_grid = {'degree': 9, 'shift': [16, 18, 20], 'C': 1}\n",
    "\n",
    "best_score = {'roc_auc': 0, 'prc_auc': 0}\n",
    "best_params = {'degree': 0, 'shift': 0, 'C': 0}\n",
    "\n",
    "classifier_ = sg.LibSVM()\n",
    "\n",
    "C = param_grid['C']\n",
    "k_degree = param_grid['degree']\n",
    "  \n",
    "for shift in param_grid['shift']: \n",
    "\n",
    "    # Compute kernel \n",
    "    kernel_train = sg.WeightedDegreePositionStringKernel(feats_train, feats_train, k_degree)\n",
    "    kernel_train.set_shifts(shift * np.ones(len(X_resampled[0]), dtype=np.int32))\n",
    "    kernel_train.set_position_weights(np.ones(len(X_resampled[0]), dtype=np.float64))\n",
    "\n",
    "    classifier_.set_C((N_train/N_train_neg)*C, (N_train/N_train_pos)*C) # weighted classes\n",
    "    classifier_.set_kernel(kernel_train)\n",
    "\n",
    "    # Fit\n",
    "    classifier_.set_labels(train_labels)\n",
    "    classifier_.train(feats_train)\n",
    "\n",
    "    # Predict\n",
    "    y_valid_pred = classifier_.apply(feats_valid).get_values()\n",
    "\n",
    "    roc_score = roc_auc(y_valid, y_valid_pred)\n",
    "    prc_score = prc_auc(y_valid, y_valid_pred)\n",
    "\n",
    "    print('Kernel Degree = %i, Shift = %i, C = %f, AUROC = %f, AUPRC = %f' %(k_degree, shift, C, roc_score, prc_score))\n",
    "\n",
    "    # Compare current area under precision-recall curve score with best score\n",
    "    if prc_score > best_score['prc_auc']:\n",
    "        # Update best score\n",
    "        best_score['roc_auc'] = roc_score\n",
    "        best_score['prc_auc'] = prc_score\n",
    "\n",
    "        # Update best parameters \n",
    "        best_params['C'] = C\n",
    "        best_params['shift'] = shift\n",
    "        best_params['degree'] = k_degree\n",
    "\n",
    "print('Best configuration: Kernel Degree = %i, Shift = %i, C = %f, AUROC = %f, AUPRC = %f' %(best_params['degree'], best_params['shift'], best_params['C'], best_score['roc_auc'], best_score['prc_auc']))"
   ]
  },
  {
   "cell_type": "markdown",
   "metadata": {
    "colab_type": "text",
    "id": "Zm4Nw4oQATkP"
   },
   "source": [
    "### Training best configuration "
   ]
  },
  {
   "cell_type": "code",
   "execution_count": 0,
   "metadata": {
    "colab": {},
    "colab_type": "code",
    "id": "3bqlyDsZcFlJ"
   },
   "outputs": [],
   "source": [
    "# Train on both training and validation data (only positive samples) using the best configuration \n",
    "\n",
    "# best_params = {'degree': 9, 'shift': 16 ,'C': 1}\n",
    "\n",
    "# Compute the kernel \n",
    "kernel = sg.WeightedDegreePositionStringKernel(feats, feats, best_params['degree'])\n",
    "kernel.set_shifts(best_params['shift'] * np.ones(len(X[0]), dtype=np.int32))\n",
    "kernel.set_position_weights(np.ones(len(X[0]), dtype=np.float64))\n",
    "\n",
    "classifier_wdp = sg.LibSVM()    \n",
    "classifier_wdp.set_C((N/N_neg)*best_params['C'], (N/N_pos)*best_params['C'])\n",
    "classifier_wdp.set_kernel(kernel)\n",
    "\n",
    "# Fit \n",
    "classifier_wdp.set_labels(labels)\n",
    "classifier_wdp.train(feats)\n",
    "\n"
   ]
  },
  {
   "cell_type": "markdown",
   "metadata": {
    "colab_type": "text",
    "id": "EncvKtwDCYFX"
   },
   "source": [
    "### Testing \n"
   ]
  },
  {
   "cell_type": "code",
   "execution_count": 0,
   "metadata": {
    "colab": {},
    "colab_type": "code",
    "id": "750v5Ht7DYxL"
   },
   "outputs": [],
   "source": [
    "feats_test = sg.StringCharFeatures(list(X_test), sg.DNA)\n",
    "\n",
    "y_test_v_pred = classifier_wdp.apply(feats_test).get_values()\n",
    "y_test_l_pred = classifier_wdp.apply(feats_test).get_labels()\n",
    "\n",
    "print('Number of test samples predicted as positive = ', sum(y_test_l_pred == +1))\n",
    "\n",
    "print('Scores on the testing set')\n",
    "print('AUROC = ', roc_auc(y_test, y_test_v_pred))\n",
    "print('AUPRC = ', prc_auc(y_test, y_test_v_pred))\n",
    "print('F1 Score = ', f1_score(y_test, y_test_l_pred))\n",
    "print('Balanced Accuracy = ', balanced_accuracy_score(y_test, y_test_l_pred))"
   ]
  },
  {
   "cell_type": "markdown",
   "metadata": {
    "colab_type": "text",
    "id": "v_4cIOEeC_Qg"
   },
   "source": [
    "## Results\n",
    "\n",
    "First we provide some graphs depicting the AUROC and AUPRC score for some of the best configurations used.  All scores below are attained by using the undersampling technique previously mentioned and then using the same validation set provided as a common ground. For the weighted degree string kernel without shifts the auprc scores were low for all parameter configurations compared to other kernels. "
   ]
  },
  {
   "cell_type": "code",
   "execution_count": 0,
   "metadata": {
    "colab": {},
    "colab_type": "code",
    "id": "BwgKZSiZLCw9"
   },
   "outputs": [],
   "source": [
    "import matplotlib.pyplot as plt\n",
    "import seaborn\n",
    "from pylab import rcParams\n",
    "import matplotlib.patches as mpatches\n",
    "\n",
    "%matplotlib inline\n",
    "rcParams['figure.figsize'] = 15, 7\n"
   ]
  },
  {
   "cell_type": "code",
   "execution_count": 0,
   "metadata": {
    "colab": {
     "base_uri": "https://localhost:8080/",
     "height": 455
    },
    "colab_type": "code",
    "id": "R9dWAHzyLPLb",
    "outputId": "7ddbb411-a721-441e-d7c3-133d38d7f50d"
   },
   "outputs": [
    {
     "data": {
      "image/png": "[encoded data removed]",
      "text/plain": [
       "<Figure size 1080x504 with 1 Axes>"
      ]
     },
     "metadata": {
      "tags": []
     },
     "output_type": "display_data"
    }
   ],
   "source": [
    "kernel_degree = np.repeat([5, 7, 9], 3)\n",
    "C = np.tile([0.01, 0.1, 1], 3)\n",
    "AUROC = [0.941265, 0.955983, 0.944876, 0.932377, 0.958132, 0.950292, 0.923636, 0.959484, 0.953307]\n",
    "\n",
    "fig, ax = plt.subplots()\n",
    "\n",
    "x_range = np.arange(len(kernel_degree))\n",
    "barlist = plt.bar(x_range, AUROC)\n",
    "plt.ylim([0.8, 1])\n",
    "plt.xlim([-1, len(x_range)])\n",
    "plt.xticks(x_range, ['kernel_degree ' + str(k) + '\\nC ' + str(c) for k, c in zip(kernel_degree, C)])\n",
    "max_AUROC = max(AUROC)\n",
    "plt.plot(np.concatenate(([-1], x_range, [len(x_range)])), np.repeat(max_AUROC, len(x_range) + 2), 'r--')\n",
    "\n",
    "barlist[np.argmax(AUROC)].set_color('r')\n",
    "plt.ylabel('Validation Score')\n",
    "plt.title('Vanilla Weighted Degree String Kernel without shifts')\n",
    "\n",
    "red_patch = mpatches.Patch(color='red', label='Maximum ROC_AUC score')\n",
    "blue_patch = mpatches.Patch(color='blue', label='ROC_AUC score')\n",
    "\n",
    "plt.legend(handles=[red_patch, blue_patch])\n",
    "\n",
    "plt.show()"
   ]
  },
  {
   "cell_type": "code",
   "execution_count": 0,
   "metadata": {
    "colab": {
     "base_uri": "https://localhost:8080/",
     "height": 700
    },
    "colab_type": "code",
    "id": "tV34gGg5bVOK",
    "outputId": "7d03c611-1307-454e-f687-ad3dddf88250"
   },
   "outputs": [
    {
     "data": {
      "image/png": "[encoded data removed]",
      "text/plain": [
       "<Figure size 720x864 with 2 Axes>"
      ]
     },
     "metadata": {
      "tags": []
     },
     "output_type": "display_data"
    }
   ],
   "source": [
    "shifts = [5, 10, 15, 16, 18]\n",
    "\n",
    "AUROC = [0.972021, 0.973248, 0.973073, 0.97250, 0.97212]\n",
    "AUPRC = [0.306189, 0.310987, 0.318213, 0.31461, 0.31245]\n",
    "\n",
    "\n",
    "rcParams['figure.figsize'] = 10, 12\n",
    "fig = plt.figure()\n",
    "\n",
    "def plot_score(score, shifts, ylabel):\n",
    "  x_range = np.arange(len(shifts))\n",
    "  barlist = plt.bar(x_range, score)\n",
    "  \n",
    "  score_range = max(score) - min(score)\n",
    "  plt.ylim([min(score) - score_range, max(score) + score_range])\n",
    "  plt.xlim([-1, len(x_range)])\n",
    "  plt.ylabel(ylabel)\n",
    "  max_score = max(score)\n",
    "  plt.plot(np.concatenate(([-1], x_range, [len(x_range)])), np.repeat(max_score, len(x_range) + 2), 'r--')\n",
    "\n",
    "  barlist[np.argmax(score)].set_color('r')\n",
    "\n",
    "  red_patch = mpatches.Patch(color='red', label='Maximum ' + ylabel)\n",
    "  blue_patch = mpatches.Patch(color='blue', label=ylabel)\n",
    "  plt.legend(handles=[red_patch, blue_patch])\n",
    "\n",
    "\n",
    "ax = plt.subplot(2, 1, 1)\n",
    "plot_score(AUROC, shifts, 'AUROC Validation Score')\n",
    "\n",
    "plt.subplot(2, 1, 2, sharex=ax)\n",
    "plot_score(AUPRC, shifts, 'AUPRC Validation Score')\n",
    "plt.xticks(np.arange(len(shifts)), ['shifts ' + str(sh) for sh in shifts])\n",
    "\n",
    "plt.show()"
   ]
  },
  {
   "cell_type": "markdown",
   "metadata": {
    "colab_type": "text",
    "id": "In5sd3q5f7sJ"
   },
   "source": [
    "As previously mentioned, due to long computational requirements, most parameters where optimized separately and not in a combined gridsearch fashion. We can expect that this iterative method will reach a local optimum in this parameter space, perhaps not the same obtained with a full brute force parameter search. Due to small differences from the other parameters, we concluded that such differences should not affect largely the last results. \n",
    "\n",
    "Results for shifts 14,, 15 and 16 depending on the train and test dataset were close. As these results were statistically close, we decided to continue with a shift parameter of 15, resulting to a lower computational cost. "
   ]
  },
  {
   "cell_type": "markdown",
   "metadata": {
    "colab_type": "text",
    "id": "0sXINovtrfjg"
   },
   "source": [
    "Here we provide some of the best classifiers that were tested. The results below are about the test set, as it was already provided separately. "
   ]
  },
  {
   "cell_type": "code",
   "execution_count": 0,
   "metadata": {
    "colab": {
     "base_uri": "https://localhost:8080/",
     "height": 108
    },
    "colab_type": "code",
    "id": "rgFU4aU9kpUz",
    "outputId": "efe032c9-eec0-41fd-eefb-14b9dfa86a2a"
   },
   "outputs": [
    {
     "data": {
      "text/html": [
       "<div>\n",
       "<style scoped>\n",
       "    .dataframe tbody tr th:only-of-type {\n",
       "        vertical-align: middle;\n",
       "    }\n",
       "\n",
       "    .dataframe tbody tr th {\n",
       "        vertical-align: top;\n",
       "    }\n",
       "\n",
       "    .dataframe thead th {\n",
       "        text-align: right;\n",
       "    }\n",
       "</style>\n",
       "<table border=\"1\" class=\"dataframe\">\n",
       "  <thead>\n",
       "    <tr style=\"text-align: right;\">\n",
       "      <th></th>\n",
       "      <th>model name</th>\n",
       "      <th>AUROC</th>\n",
       "      <th>AUPRC</th>\n",
       "    </tr>\n",
       "  </thead>\n",
       "  <tbody>\n",
       "    <tr>\n",
       "      <th>0</th>\n",
       "      <td>WeightedDegreeStringKernel</td>\n",
       "      <td>0.9637</td>\n",
       "      <td>0.1554</td>\n",
       "    </tr>\n",
       "    <tr>\n",
       "      <th>1</th>\n",
       "      <td>WeightedDegreePositionStringKernel</td>\n",
       "      <td>0.9731</td>\n",
       "      <td>0.3182</td>\n",
       "    </tr>\n",
       "  </tbody>\n",
       "</table>\n",
       "</div>"
      ],
      "text/plain": [
       "                           model name   AUROC   AUPRC\n",
       "0          WeightedDegreeStringKernel  0.9637  0.1554\n",
       "1  WeightedDegreePositionStringKernel  0.9731  0.3182"
      ]
     },
     "execution_count": 18,
     "metadata": {
      "tags": []
     },
     "output_type": "execute_result"
    }
   ],
   "source": [
    "models = [['WeightedDegreeStringKernel', 0.9637 , 0.1554],\n",
    "          ['WeightedDegreePositionStringKernel', 0.9731, 0.3182]]\n",
    "\n",
    "\n",
    "classifiers = pd.DataFrame(models, columns=['model name', 'AUROC', 'AUPRC'])\n",
    "classifiers"
   ]
  },
  {
   "cell_type": "markdown",
   "metadata": {
    "colab_type": "text",
    "id": "YvSyNr40Cvj1"
   },
   "source": [
    "## Final Model "
   ]
  },
  {
   "cell_type": "markdown",
   "metadata": {
    "colab_type": "text",
    "id": "6bzXawBiCz6p"
   },
   "source": [
    "Here we load the best classifier and present the AUROC and AUPRC score obtained."
   ]
  },
  {
   "cell_type": "code",
   "execution_count": 0,
   "metadata": {
    "colab": {},
    "colab_type": "code",
    "id": "zh9vkATHCyE4"
   },
   "outputs": [],
   "source": [
    "# The final version of this notebook was run in the colab cluster\n",
    "# in order to simultaneously edit the final document\n",
    "\n",
    "# from google.colab import files\n",
    "# from sklearn.externals import joblib\n",
    "\n",
    "# uploaded = files.upload() # upload the best model\n",
    "\n",
    "# classifier = joblib.load('degree_9_shift_15_C_1.joblib.pkl')"
   ]
  },
  {
   "cell_type": "code",
   "execution_count": 0,
   "metadata": {
    "colab": {},
    "colab_type": "code",
    "id": "6sa46GYCqA3M"
   },
   "outputs": [],
   "source": [
    "feats_test  = sg.StringCharFeatures(list(X_test), sg.DNA)\n",
    "predictions = classifier.apply(feats_test).get_values()"
   ]
  },
  {
   "cell_type": "code",
   "execution_count": 0,
   "metadata": {
    "colab": {
     "base_uri": "https://localhost:8080/",
     "height": 897
    },
    "colab_type": "code",
    "id": "qBkoc5ejvnjZ",
    "outputId": "d27931b4-d10a-462f-dcda-05dd7c37682f"
   },
   "outputs": [
    {
     "data": {
      "image/png": "[encoded data removed]",
      "text/plain": [
       "<Figure size 1080x504 with 1 Axes>"
      ]
     },
     "metadata": {
      "tags": []
     },
     "output_type": "display_data"
    },
    {
     "data": {
      "image/png": "[encoded data removed]",
      "text/plain": [
       "<Figure size 1080x504 with 1 Axes>"
      ]
     },
     "metadata": {
      "tags": []
     },
     "output_type": "display_data"
    }
   ],
   "source": [
    "plot_roc_curve(y_test, predictions)"
   ]
  },
  {
   "cell_type": "markdown",
   "metadata": {
    "colab_type": "text",
    "id": "WduNs9BzxzS-"
   },
   "source": [
    "## Discussion\n",
    "\n",
    "The results obtained on this dataset are similar to the ones obtained in the C. Elegans dataset, in the sense that the use of the string kernel with shifts greatly improves the predictive power of the model. However, the severity of class imbalance in this dataset in combination with the computational complexity of the weighted degree string kernel with shifts and the limited amount of computational resources made this task more dificult compared to the previous one. The training times when using the string kernel with shifts proved to be very long (up to 50 hours locally) which limited our ability to try different parameters and potentially different combinations of kernel functions. "
   ]
  }
 ],
 "metadata": {
  "colab": {
   "collapsed_sections": [],
   "name": "DNA Data Set .ipynb",
   "provenance": [],
   "version": "0.3.2"
  },
  "kernelspec": {
   "display_name": "Python 3",
   "language": "python",
   "name": "python3"
  },
  "language_info": {
   "codemirror_mode": {
    "name": "ipython",
    "version": 3
   },
   "file_extension": ".py",
   "mimetype": "text/x-python",
   "name": "python",
   "nbconvert_exporter": "python",
   "pygments_lexer": "ipython3",
   "version": "3.6.7"
  }
 },
 "nbformat": 4,
 "nbformat_minor": 1
}
